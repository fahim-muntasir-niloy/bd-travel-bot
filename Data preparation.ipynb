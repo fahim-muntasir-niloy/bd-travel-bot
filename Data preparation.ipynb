{
 "cells": [
  {
   "cell_type": "code",
   "execution_count": 1,
   "metadata": {
    "colab": {
     "base_uri": "https://localhost:8080/"
    },
    "id": "88TaXhDtk_4P",
    "outputId": "1f1671ef-3413-4e11-c755-da25c11dbbd4"
   },
   "outputs": [],
   "source": [
    "# load credentials\n",
    "import os\n",
    "from dotenv import load_dotenv\n",
    "load_dotenv()\n",
    "HF_TOKEN = os.getenv(\"HUGGINGFACEHUB_API_TOKEN\")"
   ]
  },
  {
   "cell_type": "code",
   "execution_count": 2,
   "metadata": {
    "colab": {
     "base_uri": "https://localhost:8080/"
    },
    "id": "joApSFjZk0c6",
    "outputId": "0c01ce30-16bf-418b-b18b-29a9adcb48a8"
   },
   "outputs": [
    {
     "name": "stderr",
     "output_type": "stream",
     "text": [
      "USER_AGENT environment variable not set, consider setting it to identify your requests.\n"
     ]
    }
   ],
   "source": [
    "# load modules\n",
    "from langchain import hub\n",
    "from langchain.text_splitter import RecursiveCharacterTextSplitter\n",
    "from langchain_community.document_loaders import WebBaseLoader\n",
    "\n",
    "from langchain_core.output_parsers import StrOutputParser\n",
    "from langchain_core.runnables import RunnablePassthrough\n",
    "from langchain_core.prompts import ChatPromptTemplate\n",
    "\n",
    "from langchain_huggingface import ChatHuggingFace, HuggingFaceEmbeddings, HuggingFacePipeline\n",
    "from langchain_community.embeddings import HuggingFaceBgeEmbeddings"
   ]
  },
  {
   "cell_type": "code",
   "execution_count": 2,
   "metadata": {},
   "outputs": [
    {
     "name": "stdout",
     "output_type": "stream",
     "text": [
      "✅ Total pages loaded: 50\n"
     ]
    }
   ],
   "source": [
    "import os\n",
    "from langchain_community.document_loaders import TextLoader\n",
    "\n",
    "folder_path = \"web_scraping\"\n",
    "\n",
    "# Get all .txt files in the folder and limit to first 100\n",
    "txt_files = [file for file in os.listdir(folder_path) if file.endswith('.txt')][:50]\n",
    "\n",
    "\n",
    "all_pages = []  # To store pages from all files\n",
    "\n",
    "for txt in txt_files:\n",
    "    # print(f\"Processing {txt} file...\")  # Optional: Show progress\n",
    "    loader = TextLoader(file_path=os.path.join(folder_path, txt), encoding=\"utf-8\")\n",
    "    \n",
    "    # Load the documents for this file and append to `all_pages`\n",
    "    for doc in loader.lazy_load():\n",
    "        all_pages.append(doc)\n",
    "\n",
    "# Output all collected pages\n",
    "print(f\"✅ Total pages loaded: {len(all_pages)}\")\n"
   ]
  },
  {
   "cell_type": "code",
   "execution_count": 4,
   "metadata": {
    "id": "MQGfHfyklJFr"
   },
   "outputs": [],
   "source": [
    "# Splitting document\n",
    "from langchain.text_splitter import RecursiveCharacterTextSplitter\n",
    "text_splitter = RecursiveCharacterTextSplitter(\n",
    "    chunk_size = 1000,\n",
    "    chunk_overlap = 300,\n",
    "        separators=[\n",
    "        \"\\n\"]\n",
    ")\n",
    "\n",
    "splits = text_splitter.split_documents(all_pages)\n",
    "# splits"
   ]
  },
  {
   "cell_type": "code",
   "execution_count": 5,
   "metadata": {
    "colab": {
     "base_uri": "https://localhost:8080/"
    },
    "id": "ymczpJBBquxs",
    "outputId": "d5234b9a-e13b-4c17-953e-409855c98e43"
   },
   "outputs": [
    {
     "data": {
      "text/plain": [
       "189"
      ]
     },
     "execution_count": 5,
     "metadata": {},
     "output_type": "execute_result"
    }
   ],
   "source": [
    "len(splits)"
   ]
  },
  {
   "cell_type": "markdown",
   "metadata": {
    "id": "sgd4Cqq3Da0U"
   },
   "source": [
    "# Embedding model: BAAI/bge-m3"
   ]
  },
  {
   "cell_type": "code",
   "execution_count": 7,
   "metadata": {},
   "outputs": [
    {
     "name": "stderr",
     "output_type": "stream",
     "text": [
      "c:\\Users\\ASUS\\miniconda3\\envs\\torch\\Lib\\site-packages\\tqdm\\auto.py:21: TqdmWarning: IProgress not found. Please update jupyter and ipywidgets. See https://ipywidgets.readthedocs.io/en/stable/user_install.html\n",
      "  from .autonotebook import tqdm as notebook_tqdm\n"
     ]
    },
    {
     "name": "stdout",
     "output_type": "stream",
     "text": [
      "embedding model loaded\n"
     ]
    }
   ],
   "source": [
    "from langchain_huggingface import HuggingFaceEmbeddings\n",
    "\n",
    "hf_embedding_model = HuggingFaceEmbeddings(\n",
    "    model_name=\"BAAI/bge-m3\",\n",
    "    show_progress=True,\n",
    ")\n",
    "\n",
    "print(\"embedding model loaded\")"
   ]
  },
  {
   "cell_type": "code",
   "execution_count": 9,
   "metadata": {},
   "outputs": [
    {
     "data": {
      "text/plain": [
       "'ঢাকার বিভিন্ন জায়গা হতে শাহবাগগামী অনেক বাস চলাচল করে। এসব বাসে কিংবা পছন্দের উপায়ে শাহবাগ এসে রিকশা বা পায়ে হেঁটে কলা ভবনের সামনে অপরাজেয় বাংলা দেখতে যেতে পারবেন।\\nফিচার ইমেজ: Shiropa Shahreen\\nভ্রমণ সংক্রান্ত যে কোন তথ্য ও আপডেট জানতে ফলো করুন আমাদের ফেসবুক পেইজ এবং জয়েন করুন আমাদের ফেসবুক গ্রুপে।\\n© সর্বস্বত্ব সংরক্ষিত । এই ওয়েবসাইটের কোনো লেখা অনুমতি ছাড়া ব্যবহার বেআইনি।'"
      ]
     },
     "execution_count": 9,
     "metadata": {},
     "output_type": "execute_result"
    }
   ],
   "source": [
    "splits[20].page_content"
   ]
  },
  {
   "cell_type": "code",
   "execution_count": 11,
   "metadata": {},
   "outputs": [
    {
     "name": "stderr",
     "output_type": "stream",
     "text": [
      "Batches: 100%|██████████| 2/2 [00:27<00:00, 13.73s/it]\n"
     ]
    }
   ],
   "source": [
    "texts = []\n",
    "for i in range(len(splits)//5):\n",
    "    texts.append(splits[i].page_content)\n",
    "\n",
    "embeddings = hf_embedding_model.embed_documents(texts)"
   ]
  },
  {
   "cell_type": "code",
   "execution_count": 43,
   "metadata": {},
   "outputs": [],
   "source": [
    "# embeddings[50]"
   ]
  },
  {
   "cell_type": "code",
   "execution_count": 13,
   "metadata": {},
   "outputs": [
    {
     "name": "stdout",
     "output_type": "stream",
     "text": [
      "Connected Database: research_paper_bot\n",
      "Collections found: ['pregnancy_bot', 'travel_bot']\n"
     ]
    }
   ],
   "source": [
    "from astrapy import DataAPIClient\n",
    "\n",
    "ASTRA_DB_APPLICATION_TOKEN = os.getenv(\"ASTRA_DB_APPLICATION_TOKEN\")\n",
    "ASTRA_DB_API_ENDPOINT = os.getenv(\"ASTRA_DB_API_ENDPOINT\")\n",
    "# ASTRA_DB_KEYSPACE = os.getenv(\"ASTRA_DB_KEYSPACE\")\n",
    "\n",
    "# Initialize the client\n",
    "client = DataAPIClient(ASTRA_DB_APPLICATION_TOKEN)\n",
    "db = client.get_database_by_api_endpoint(\n",
    "  ASTRA_DB_API_ENDPOINT\n",
    ")\n",
    "\n",
    "print(f\"Connected Database: {db.info().name}\\nCollections found: {db.list_collection_names()}\")"
   ]
  },
  {
   "cell_type": "code",
   "execution_count": 14,
   "metadata": {},
   "outputs": [
    {
     "name": "stderr",
     "output_type": "stream",
     "text": [
      "Batches: 100%|██████████| 1/1 [00:00<00:00,  2.74it/s]\n"
     ]
    },
    {
     "data": {
      "text/plain": [
       "'test_travel_kb'"
      ]
     },
     "execution_count": 14,
     "metadata": {},
     "output_type": "execute_result"
    }
   ],
   "source": [
    "# create collection\n",
    "from langchain_astradb import AstraDBVectorStore\n",
    "\n",
    "vector_store = AstraDBVectorStore(\n",
    "    collection_name=\"test_travel_kb\",\n",
    "    embedding=hf_embedding_model,\n",
    "    api_endpoint=ASTRA_DB_API_ENDPOINT,\n",
    "    token=ASTRA_DB_APPLICATION_TOKEN,\n",
    "    namespace=\"default_keyspace\",\n",
    "    # autodetect_collection=True,   # set to True to use it\n",
    ")\n",
    "\n",
    "vector_store.collection_name"
   ]
  },
  {
   "cell_type": "code",
   "execution_count": 49,
   "metadata": {},
   "outputs": [
    {
     "data": {
      "text/plain": [
       "list"
      ]
     },
     "execution_count": 49,
     "metadata": {},
     "output_type": "execute_result"
    }
   ],
   "source": [
    "type(splits)"
   ]
  },
  {
   "cell_type": "code",
   "execution_count": 15,
   "metadata": {},
   "outputs": [
    {
     "name": "stderr",
     "output_type": "stream",
     "text": [
      "Batches:   0%|          | 0/1 [00:00<?, ?it/s]"
     ]
    },
    {
     "name": "stderr",
     "output_type": "stream",
     "text": [
      "Batches: 100%|██████████| 1/1 [00:05<00:00,  5.94s/it]\n"
     ]
    },
    {
     "name": "stdout",
     "output_type": "stream",
     "text": [
      "Chunk 0 added successfully\n"
     ]
    },
    {
     "name": "stderr",
     "output_type": "stream",
     "text": [
      "Batches: 100%|██████████| 1/1 [00:05<00:00,  5.84s/it]\n"
     ]
    },
    {
     "name": "stdout",
     "output_type": "stream",
     "text": [
      "Chunk 1 added successfully\n"
     ]
    },
    {
     "name": "stderr",
     "output_type": "stream",
     "text": [
      "Batches: 100%|██████████| 1/1 [00:04<00:00,  4.79s/it]\n"
     ]
    },
    {
     "name": "stdout",
     "output_type": "stream",
     "text": [
      "Chunk 2 added successfully\n"
     ]
    },
    {
     "name": "stderr",
     "output_type": "stream",
     "text": [
      "Batches: 100%|██████████| 1/1 [00:04<00:00,  4.47s/it]\n"
     ]
    },
    {
     "name": "stdout",
     "output_type": "stream",
     "text": [
      "Chunk 3 added successfully\n"
     ]
    },
    {
     "name": "stderr",
     "output_type": "stream",
     "text": [
      "Batches: 100%|██████████| 1/1 [00:05<00:00,  5.35s/it]\n"
     ]
    },
    {
     "name": "stdout",
     "output_type": "stream",
     "text": [
      "Chunk 4 added successfully\n"
     ]
    },
    {
     "name": "stderr",
     "output_type": "stream",
     "text": [
      "Batches: 100%|██████████| 1/1 [00:05<00:00,  5.42s/it]\n"
     ]
    },
    {
     "name": "stdout",
     "output_type": "stream",
     "text": [
      "Chunk 5 added successfully\n"
     ]
    },
    {
     "name": "stderr",
     "output_type": "stream",
     "text": [
      "Batches: 100%|██████████| 1/1 [00:05<00:00,  5.21s/it]\n"
     ]
    },
    {
     "name": "stdout",
     "output_type": "stream",
     "text": [
      "Chunk 6 added successfully\n"
     ]
    },
    {
     "name": "stderr",
     "output_type": "stream",
     "text": [
      "Batches: 100%|██████████| 1/1 [00:04<00:00,  4.76s/it]\n"
     ]
    },
    {
     "name": "stdout",
     "output_type": "stream",
     "text": [
      "Chunk 7 added successfully\n"
     ]
    },
    {
     "name": "stderr",
     "output_type": "stream",
     "text": [
      "Batches: 100%|██████████| 1/1 [00:05<00:00,  5.19s/it]\n"
     ]
    },
    {
     "name": "stdout",
     "output_type": "stream",
     "text": [
      "Chunk 8 added successfully\n"
     ]
    },
    {
     "name": "stderr",
     "output_type": "stream",
     "text": [
      "Batches: 100%|██████████| 1/1 [00:05<00:00,  5.58s/it]\n"
     ]
    },
    {
     "name": "stdout",
     "output_type": "stream",
     "text": [
      "Chunk 9 added successfully\n"
     ]
    },
    {
     "name": "stderr",
     "output_type": "stream",
     "text": [
      "Batches: 100%|██████████| 1/1 [00:05<00:00,  5.98s/it]\n"
     ]
    },
    {
     "name": "stdout",
     "output_type": "stream",
     "text": [
      "Chunk 10 added successfully\n"
     ]
    },
    {
     "name": "stderr",
     "output_type": "stream",
     "text": [
      "Batches: 100%|██████████| 1/1 [00:05<00:00,  5.32s/it]\n"
     ]
    },
    {
     "name": "stdout",
     "output_type": "stream",
     "text": [
      "Chunk 11 added successfully\n"
     ]
    },
    {
     "name": "stderr",
     "output_type": "stream",
     "text": [
      "Batches: 100%|██████████| 1/1 [00:05<00:00,  5.80s/it]\n"
     ]
    },
    {
     "name": "stdout",
     "output_type": "stream",
     "text": [
      "Chunk 12 added successfully\n"
     ]
    },
    {
     "name": "stderr",
     "output_type": "stream",
     "text": [
      "Batches: 100%|██████████| 1/1 [00:05<00:00,  5.80s/it]\n"
     ]
    },
    {
     "name": "stdout",
     "output_type": "stream",
     "text": [
      "Chunk 13 added successfully\n"
     ]
    },
    {
     "name": "stderr",
     "output_type": "stream",
     "text": [
      "Batches: 100%|██████████| 1/1 [00:06<00:00,  6.09s/it]\n"
     ]
    },
    {
     "name": "stdout",
     "output_type": "stream",
     "text": [
      "Chunk 14 added successfully\n"
     ]
    },
    {
     "name": "stderr",
     "output_type": "stream",
     "text": [
      "Batches: 100%|██████████| 1/1 [00:05<00:00,  5.38s/it]\n"
     ]
    },
    {
     "name": "stdout",
     "output_type": "stream",
     "text": [
      "Chunk 15 added successfully\n"
     ]
    },
    {
     "name": "stderr",
     "output_type": "stream",
     "text": [
      "Batches: 100%|██████████| 1/1 [00:05<00:00,  5.43s/it]\n"
     ]
    },
    {
     "name": "stdout",
     "output_type": "stream",
     "text": [
      "Chunk 16 added successfully\n"
     ]
    },
    {
     "name": "stderr",
     "output_type": "stream",
     "text": [
      "Batches: 100%|██████████| 1/1 [00:06<00:00,  6.59s/it]\n"
     ]
    },
    {
     "name": "stdout",
     "output_type": "stream",
     "text": [
      "Chunk 17 added successfully\n"
     ]
    },
    {
     "name": "stderr",
     "output_type": "stream",
     "text": [
      "Batches: 100%|██████████| 1/1 [00:05<00:00,  5.29s/it]\n"
     ]
    },
    {
     "name": "stdout",
     "output_type": "stream",
     "text": [
      "Chunk 18 added successfully\n"
     ]
    }
   ],
   "source": [
    "for i in range(0, len(splits), 10):\n",
    "    chunk = splits[i:i+10]\n",
    "    try:\n",
    "        # Add the chunk to the vector store\n",
    "        vector_store.add_documents(documents=chunk)\n",
    "        print(f\"Chunk {i//10} added successfully\")\n",
    "    except Exception as e:\n",
    "        print(f\"Error adding chunk {i//10}: {e}\")\n",
    "        continue\n",
    "    "
   ]
  },
  {
   "cell_type": "code",
   "execution_count": 16,
   "metadata": {},
   "outputs": [],
   "source": [
    "# as data is already loaded\n",
    "\n",
    "vector_store = AstraDBVectorStore(\n",
    "    embedding = hf_embedding_model,\n",
    "    collection_name=\"test_travel_kb\",\n",
    "    api_endpoint=ASTRA_DB_API_ENDPOINT,\n",
    "    token=ASTRA_DB_APPLICATION_TOKEN,\n",
    "    namespace=\"default_keyspace\",\n",
    "    autodetect_collection=True,\n",
    ")"
   ]
  },
  {
   "cell_type": "markdown",
   "metadata": {},
   "source": [
    "## Vector Retriever"
   ]
  },
  {
   "cell_type": "code",
   "execution_count": 19,
   "metadata": {
    "id": "louhvreXlc_k"
   },
   "outputs": [],
   "source": [
    "vec_retriever = vector_store.as_retriever(search_type=\"similarity\", \n",
    "                                          search_kwargs={\"k\": 2})"
   ]
  },
  {
   "cell_type": "code",
   "execution_count": 20,
   "metadata": {},
   "outputs": [
    {
     "name": "stderr",
     "output_type": "stream",
     "text": [
      "Batches: 100%|██████████| 1/1 [00:00<00:00,  4.81it/s]\n"
     ]
    },
    {
     "name": "stdout",
     "output_type": "stream",
     "text": [
      "*** [Similarity score=0.791149]\n",
      "নিজস্ব বা গণপরিবহনে গাজীপুরের চৌরাস্তায় এসে সেখান থেকে গাজীপুর ডিসি অফিসের সামনে (রাজবাড়ী) যেতে হবে। ডিসি অফিসের সামনে থেকে সিএনজিতে শিমুলতলী রোড ধরে ৭ কিলোমিটার দূরত্বে অবস্থিত আরশিনগর হলিডে রিসোর্টে যেতে পারবেন।\n",
      "পাজুলিয়া, জয়দেবপুর, গাজীপুর।মোবাইলঃ 01976462661, 01976462665, 01626462661ই-মেইলঃ info@arshinagarresort.com Website\n",
      "গাজীপুরের সুন্দর আরও কিছু রিসোর্টঢাকার কাছে হওয়ায় গাজীপুর জেলায় আরও বেশ কিছু সুন্দর ও মনোরম রিসোর্ট গড়ে উঠেছে। তার মধ্যে উল্লেখযোগ্য গুলো হলো জল জঙ্গলের কাব্য, নক্ষত্র বাড়ি রিসোর্ট, ছুটি রিসোর্ট, অঙ্গনা রিসোর্ট ইত্যাদি।\n",
      "ফিচার ইমেজ: দিপক কুমার\n",
      "ভ্রমণ সংক্রান্ত যে কোন তথ্য ও আপডেট জানতে ফলো করুন আমাদের ফেসবুক পেইজ এবং জয়েন করুন আমাদের ফেসবুক গ্রুপে।\n",
      "© সর্বস্বত্ব সংরক্ষিত । এই ওয়েবসাইটের কোনো লেখা অনুমতি ছাড়া ব্যবহার বেআইনি।\n",
      "[{'source': 'web_scraping\\\\আরশিনগর হলিডে রিসোর্ট.txt'}]\n",
      "\n",
      "*** [Similarity score=0.753260]\n",
      "আদমজী সংলগ্ন এলাকায় সাথি হোটেল, রেসিপি চাইনিজ, প্রিতুলস ফুড জোন ও বিসমিল্লাহ্‌ বিরিয়ানি হাউজের মত বেশ কিছু খাবারের হেটেল আছে।\n",
      "নারায়ণগঞ্জ জেলার অন্যান্য দর্শনীয় স্থানের মধ্যে পানাম নগর, জিন্দা পার্ক, মুড়াপারা জমিদার বাড়ী, মেরি এন্ডারসন, ফুলের গ্রাম সাবদি, সোনাকান্দা দুর্গ, লোক ও কারুশিল্প ফাউন্ডেশন, কাইকারটেক হাট, মায়া দ্বিপ, বাংলার তাজমহল ও গোয়ালদি মসজিদ অন্যতম।\n",
      "ফিচার ইমেজ: মাহমুদুর রহমান\n",
      "ভ্রমণ সংক্রান্ত যে কোন তথ্য ও আপডেট জানতে ফলো করুন আমাদের ফেসবুক পেইজ এবং জয়েন করুন আমাদের ফেসবুক গ্রুপে।\n",
      "© সর্বস্বত্ব সংরক্ষিত । এই ওয়েবসাইটের কোনো লেখা অনুমতি ছাড়া ব্যবহার বেআইনি।\n",
      "[{'source': 'web_scraping\\\\আদমজী জুট মিল.txt'}]\n",
      "\n"
     ]
    }
   ],
   "source": [
    "# sanity check for similarity search\n",
    "results = vector_store.similarity_search_with_score(\n",
    "    \"গাজীপুরে ঘুরে দেখার মত কি কি আছে?\",\n",
    "    k=2,\n",
    ")\n",
    "for res, score in results:\n",
    "    print(f\"*** [Similarity score={score:3f}]\\n{res.page_content}\\n[{res.metadata}]\\n\")"
   ]
  }
 ],
 "metadata": {
  "colab": {
   "provenance": []
  },
  "kernelspec": {
   "display_name": "torch",
   "language": "python",
   "name": "python3"
  },
  "language_info": {
   "codemirror_mode": {
    "name": "ipython",
    "version": 3
   },
   "file_extension": ".py",
   "mimetype": "text/x-python",
   "name": "python",
   "nbconvert_exporter": "python",
   "pygments_lexer": "ipython3",
   "version": "3.12.9"
  }
 },
 "nbformat": 4,
 "nbformat_minor": 0
}
