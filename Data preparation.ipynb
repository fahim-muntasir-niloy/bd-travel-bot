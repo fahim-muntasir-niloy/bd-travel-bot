{
 "cells": [
  {
   "cell_type": "code",
   "execution_count": 1,
   "metadata": {
    "colab": {
     "base_uri": "https://localhost:8080/"
    },
    "id": "88TaXhDtk_4P",
    "outputId": "1f1671ef-3413-4e11-c755-da25c11dbbd4"
   },
   "outputs": [],
   "source": [
    "# load credentials\n",
    "import os\n",
    "from dotenv import load_dotenv\n",
    "load_dotenv()\n",
    "HF_TOKEN = os.getenv(\"HUGGINGFACEHUB_API_TOKEN\")"
   ]
  },
  {
   "cell_type": "code",
   "execution_count": 2,
   "metadata": {
    "colab": {
     "base_uri": "https://localhost:8080/"
    },
    "id": "joApSFjZk0c6",
    "outputId": "0c01ce30-16bf-418b-b18b-29a9adcb48a8"
   },
   "outputs": [
    {
     "name": "stderr",
     "output_type": "stream",
     "text": [
      "USER_AGENT environment variable not set, consider setting it to identify your requests.\n"
     ]
    }
   ],
   "source": [
    "# load modules\n",
    "from langchain import hub\n",
    "from langchain.text_splitter import RecursiveCharacterTextSplitter\n",
    "from langchain_community.document_loaders import WebBaseLoader\n",
    "\n",
    "from langchain_core.output_parsers import StrOutputParser\n",
    "from langchain_core.runnables import RunnablePassthrough\n",
    "from langchain_core.prompts import ChatPromptTemplate\n",
    "\n",
    "from langchain_huggingface import ChatHuggingFace, HuggingFaceEmbeddings, HuggingFacePipeline\n",
    "from langchain_community.embeddings import HuggingFaceBgeEmbeddings"
   ]
  },
  {
   "cell_type": "code",
   "execution_count": 3,
   "metadata": {},
   "outputs": [
    {
     "name": "stdout",
     "output_type": "stream",
     "text": [
      "✅ Total pages loaded: 10\n"
     ]
    }
   ],
   "source": [
    "import os\n",
    "from langchain_community.document_loaders import TextLoader\n",
    "\n",
    "folder_path = \"web_scraping\"\n",
    "\n",
    "# Get all .txt files in the folder and limit to first 100\n",
    "txt_files = [file for file in os.listdir(folder_path) if file.endswith('.txt')][:10]\n",
    "\n",
    "\n",
    "all_pages = []  # To store pages from all files\n",
    "\n",
    "for txt in txt_files:\n",
    "    # print(f\"Processing {txt} file...\")  # Optional: Show progress\n",
    "    loader = TextLoader(file_path=os.path.join(folder_path, txt), encoding=\"utf-8\")\n",
    "    \n",
    "    # Load the documents for this file and append to `all_pages`\n",
    "    for doc in loader.lazy_load():\n",
    "        all_pages.append(doc)\n",
    "\n",
    "# Output all collected pages\n",
    "print(f\"✅ Total pages loaded: {len(all_pages)}\")\n"
   ]
  },
  {
   "cell_type": "code",
   "execution_count": 4,
   "metadata": {
    "id": "MQGfHfyklJFr"
   },
   "outputs": [],
   "source": [
    "# Splitting document\n",
    "\n",
    "text_splitter = RecursiveCharacterTextSplitter(\n",
    "    chunk_size = 512,\n",
    "    chunk_overlap = 200,\n",
    "        separators=[\n",
    "        \"\\n\"]\n",
    ")\n",
    "\n",
    "splits = text_splitter.split_documents(all_pages)\n",
    "# splits"
   ]
  },
  {
   "cell_type": "code",
   "execution_count": 5,
   "metadata": {
    "colab": {
     "base_uri": "https://localhost:8080/"
    },
    "id": "ymczpJBBquxs",
    "outputId": "d5234b9a-e13b-4c17-953e-409855c98e43"
   },
   "outputs": [
    {
     "data": {
      "text/plain": [
       "67"
      ]
     },
     "execution_count": 5,
     "metadata": {},
     "output_type": "execute_result"
    }
   ],
   "source": [
    "len(splits)"
   ]
  },
  {
   "cell_type": "markdown",
   "metadata": {
    "id": "sgd4Cqq3Da0U"
   },
   "source": [
    "# Embedding model: BAAI/bge-m3"
   ]
  },
  {
   "cell_type": "code",
   "execution_count": 6,
   "metadata": {},
   "outputs": [
    {
     "name": "stdout",
     "output_type": "stream",
     "text": [
      "embedding model loaded\n"
     ]
    }
   ],
   "source": [
    "from langchain_community.embeddings import HuggingFaceInferenceAPIEmbeddings\n",
    "\n",
    "hf_embedding_model = HuggingFaceInferenceAPIEmbeddings(\n",
    "    model_name=\"BAAI/bge-m3\",\n",
    "    api_key=HF_TOKEN,\n",
    ")\n",
    "\n",
    "print(\"embedding model loaded\")"
   ]
  },
  {
   "cell_type": "code",
   "execution_count": 7,
   "metadata": {},
   "outputs": [
    {
     "name": "stdout",
     "output_type": "stream",
     "text": [
      "Connected Database: research_paper_bot\n",
      "Collections found: ['pregnancy_bot', 'travel_bot']\n"
     ]
    }
   ],
   "source": [
    "from astrapy import DataAPIClient\n",
    "\n",
    "ASTRA_DB_APPLICATION_TOKEN = os.getenv(\"ASTRA_DB_APPLICATION_TOKEN\")\n",
    "ASTRA_DB_API_ENDPOINT = os.getenv(\"ASTRA_DB_API_ENDPOINT\")\n",
    "# ASTRA_DB_KEYSPACE = os.getenv(\"ASTRA_DB_KEYSPACE\")\n",
    "\n",
    "# Initialize the client\n",
    "client = DataAPIClient(ASTRA_DB_APPLICATION_TOKEN)\n",
    "db = client.get_database_by_api_endpoint(\n",
    "  ASTRA_DB_API_ENDPOINT\n",
    ")\n",
    "\n",
    "print(f\"Connected Database: {db.info().name}\\nCollections found: {db.list_collection_names()}\")"
   ]
  },
  {
   "cell_type": "code",
   "execution_count": 8,
   "metadata": {},
   "outputs": [
    {
     "name": "stderr",
     "output_type": "stream",
     "text": [
      "APICommander about to raise from: [{'message': \"Collection already exists: trying to create Collection ('travel_bot') with different settings\", 'errorCode': 'EXISTING_COLLECTION_DIFFERENT_SETTINGS', 'id': '2690c2e4-1c40-4e08-b4da-d1e0178dd3bf', 'title': 'Collection already exists', 'family': 'REQUEST', 'scope': 'EMPTY'}]\n",
      "c:\\Users\\ASUS\\miniconda3\\envs\\torch\\Lib\\site-packages\\langchain_astradb\\utils\\astradb.py:391: UserWarning: Astra DB collection 'travel_bot' is detected as having indexing turned on for all fields (either created manually or by older versions of this plugin). This implies stricter limitations on the amount of text each string in a document can store. Consider indexing anew on a fresh collection to be able to store longer texts. See https://github.com/langchain-ai/langchain-datastax/blob/main/libs/astradb/README.md#warnings-about-indexing for more details.\n",
      "  if not self._validate_indexing_policy(\n"
     ]
    },
    {
     "data": {
      "text/plain": [
       "'travel_bot'"
      ]
     },
     "execution_count": 8,
     "metadata": {},
     "output_type": "execute_result"
    }
   ],
   "source": [
    "# create collection\n",
    "from langchain_astradb import AstraDBVectorStore\n",
    "\n",
    "vector_store = AstraDBVectorStore(\n",
    "    collection_name=\"travel_bot\",\n",
    "    embedding=hf_embedding_model,\n",
    "    api_endpoint=ASTRA_DB_API_ENDPOINT,\n",
    "    token=ASTRA_DB_APPLICATION_TOKEN,\n",
    "    namespace=\"default_keyspace\",\n",
    "    # autodetect_collection=True,   # set to True to use it\n",
    ")\n",
    "\n",
    "vector_store.collection_name"
   ]
  },
  {
   "cell_type": "code",
   "execution_count": 9,
   "metadata": {},
   "outputs": [
    {
     "data": {
      "text/plain": [
       "['b44f4b08c735471092d197b682fd69ad',\n",
       " '2b431eb880504e3787a4b4cadef97066',\n",
       " '3b86faf3295245b48aeafb05c024cbfb',\n",
       " '410ebeb93ca149e19337f21be4712f14',\n",
       " '0faf8496126e47238a7daf3f843e6fa8',\n",
       " '223ecdc85bb14a1587df4627d93e1bc0',\n",
       " '37720a7d991c44a2bc810e36893fa609',\n",
       " 'd38844e0934c41a590358edd5f045c3f',\n",
       " '198db8c581f7429e83ef8b9055a067c0',\n",
       " 'c740ce72099b4d9b81751a653a861c22',\n",
       " '9182da95976b4d28bb5346ebd6a2c311',\n",
       " '0bfc992e17e9413e9cec9aa91f5d67c4',\n",
       " 'be3f574daae84d3cae6dae00e33f5ee8',\n",
       " '228c7ca228894b02b8901ccfe5295fb5',\n",
       " '1d4cd9852d844c43a029128b6ec5f010',\n",
       " '2c7bb072b7aa48e8bd6203105ccf783e',\n",
       " '1411feea8c6b4d8e9cd85a39cfae620f',\n",
       " '9175a46ec68642c88f80f701036e718c',\n",
       " '49be44565d944195ab7e766be4e1e186',\n",
       " 'c2d21203872d45f8b7c415f25f516971',\n",
       " '4b1b3e1831d94d01bf4c968007cf7c5e',\n",
       " '70b6c549d4bb4524aad5914352aec021',\n",
       " 'bf2f1b4a824444a2a2fc6542d8df02fc',\n",
       " 'd4d139ad4ce9491e9cf42dd41982c1bb',\n",
       " '3e4be5b3203a434a891534f57a8f1d11',\n",
       " '00f6437a2625477dbfb9398f04cc6106',\n",
       " '0affcdbc6a384a19b35be55e02ef6847',\n",
       " '80912ae1e6aa4aa3975550e925d03193',\n",
       " '4312e49309454aa0919d8f2c5c3f44ba',\n",
       " '2b4111f5a8924bdeb22b1099fbcc14ef',\n",
       " 'c5ae5b4b43e94983ac6d5a36fcf2589c',\n",
       " '1b518a03b71f4630b9806cb2d2577212',\n",
       " '2e2777dcfb2d49ea8ae00415d51f70ac',\n",
       " 'c57b7c412cf745b09f5a488179247fc0',\n",
       " 'a7d8d49a90ad4dfaa9466a9dbe5a70f2',\n",
       " '3054e4457bbc470ea1eee9b6ac7b9261',\n",
       " 'ae0df07ec2cf4aa49d8baad5288390b0',\n",
       " '89a03457bd704058aa8af064158453c1',\n",
       " '39d0d7621080417988022a8fba2a9bc6',\n",
       " '033b8d2ae082401a8deb2725fd5403d3',\n",
       " 'dd58d42daa80404f8ce9fbd76e243d07',\n",
       " '59b8bb4753af4dcba9758df68dfc440e',\n",
       " '17b2f3a9647742f3a674e93ffea63dc2',\n",
       " '34b5834e2b804c999d81982979535001',\n",
       " '81e2bd1a2ee34725b921b8d62467dde5',\n",
       " 'b39d7c950c5c44758a76f16546d01a0a',\n",
       " '7aac22f0a5934dc1a20703893ae9e5b8',\n",
       " '0e5948edbc5d49db91a82d7e85b47b14',\n",
       " 'a43af4c1daaa48b29c43631e824d8e2b',\n",
       " 'f34bf36a20544a7baf6bddc95812a1ae',\n",
       " 'dfa042bbabd84e9d830ce52de563abbb',\n",
       " '6afe0c1807744d51af4d7b8d2cdfc04f',\n",
       " 'f392070d55cf4796b05760e7e73a9503',\n",
       " 'e5b42ef64726410dbdc67234c736e6dc',\n",
       " '52e1e3c13429464db2e5acb613e64119',\n",
       " '02dc5cb68da44e39aba322b5cb6a0ce0',\n",
       " 'a4220e8f3da54a5099cc000a60aaf03a',\n",
       " '04f374ba50594544b76a03ced75c5e5b',\n",
       " 'd97fe010d1b44aac863737a11ce984df',\n",
       " '7505ebd4e5f442c09d3dd2406469d8ab',\n",
       " 'b5009a2bea9245ac8f8dda331a045365',\n",
       " 'eeb33c51bd8944418756837d7d80430b',\n",
       " '3e2d07bc7f914d85bdb5fe775e641fbb',\n",
       " '260cb99655ad40939bbaf35aad28f8fb',\n",
       " 'e1e5ddc987324fe8822d9b888fe9a398',\n",
       " 'ecf93690b1cd4eb38768bac99a39825d',\n",
       " '26a5566d84e0409fbcab54cd817003b1']"
      ]
     },
     "execution_count": 9,
     "metadata": {},
     "output_type": "execute_result"
    }
   ],
   "source": [
    "vector_store.add_documents(documents=splits)"
   ]
  },
  {
   "cell_type": "code",
   "execution_count": 12,
   "metadata": {},
   "outputs": [],
   "source": [
    "# as data is already loaded\n",
    "\n",
    "vector_store = AstraDBVectorStore(\n",
    "    embedding = hf_embedding_model,\n",
    "    collection_name=\"travel_bot\",\n",
    "    api_endpoint=ASTRA_DB_API_ENDPOINT,\n",
    "    token=ASTRA_DB_APPLICATION_TOKEN,\n",
    "    namespace=\"default_keyspace\",\n",
    "    autodetect_collection=True,\n",
    ")"
   ]
  },
  {
   "cell_type": "markdown",
   "metadata": {},
   "source": [
    "## Vector Retriever"
   ]
  },
  {
   "cell_type": "code",
   "execution_count": 13,
   "metadata": {
    "id": "louhvreXlc_k"
   },
   "outputs": [],
   "source": [
    "vec_retriever = vector_store.as_retriever(search_type=\"similarity\", search_kwargs={\"k\": 2})"
   ]
  },
  {
   "cell_type": "code",
   "execution_count": 14,
   "metadata": {},
   "outputs": [
    {
     "name": "stdout",
     "output_type": "stream",
     "text": [
      "*** [Similarity score=0.777963]\n",
      "প্রায় দুইশত বছর আগে ডানলপ নামের এক ইংরেজ নীলকর ১২ একর জমির ওপর এই নীলকুঠিরটি স্থাপন করেন। তখন কৃষকদের অন্য ফসল ছেড়ে নীল চাষে বাধ্য করা হত। এক সময় নীল কুঠিয়াল ও তাদের দোসর জমিদার-মহাজনদের অত্যাচারে চরম আকার ধারন করে। তখন শিবচর উপজেলার বাহাদুরপুর গ্রামের হাজী শরীয়তউল্লাহ ও তার পুত্র পীর মহসীনউদ্দিন দুদুমিয়া নীল কুঠিয়ালদের বিরুদ্ধে প্রতিরোধ গড়ে তোলেন। কৃষকদের অধিকার রক্ষার এই প্রতিবাদ এক সময় গণআন্দোলনে পরিনত হয়।\n",
      "[{'source': 'web_scraping\\\\আউলিয়াপুর নীলকুঠি.txt'}]\n",
      "\n",
      "*** [Similarity score=0.768082]\n",
      "\n",
      "ঐতিহাসিক ফরায়েজী আন্দোলনের সাক্ষী আউলিয়াপুর নীলকুঠি (Auliapur Nilkuthi) মাদারীপুর অঞ্চলের মানুষের কাছে ডানলপ সাহেবের নীলকুঠি (Madaripur Dunlop Nilkuthi) নামেও পরিচিত। আউলিয়াপুর নীলকুঠি যেন বর্তমানেও গরীব চাষীদের উপর ব্রিটিশ নীলকরদের শোষন এবং তৎকালীন সময়কে বহন করে চলেছে। আউলিয়াপুর নীলকুঠিরটি ছিলারচর ইউনিয়নের আউলিয়াপুর গ্রামে অবস্থিত। মাদারীপুর জেলা শহর হতে এই নীলকুঠিরের দূরত্ব মাত্র ১০ কিলোমিটার। পীর-আউলিয়ার পদস্পর্শে ধন্য আউলিয়াপুরের খ্যাতিমান আউলিয়া হযরত শাহ সুফী খাজা ইউসুফ শাহ আহসানের দরগা শরীফের পাশেই রয়েছে নীলকুঠিটি। ১২ কক্ষ বিশিষ্ট আউলিয়াপুর নীলকুঠিরের মাঝামাঝি রয়েছে চুল্লি এবং প্রায় ৪০ ফুট উঁচু চিমনি। যদিও বর্তমানে প্রায় নিশ্চিহ্ন নীলকুঠিরের জমিও বিভিন্নভাবে বেহাত হয়ে গেছে।\n",
      "[{'source': 'web_scraping\\\\আউলিয়াপুর নীলকুঠি.txt'}]\n",
      "\n"
     ]
    }
   ],
   "source": [
    "# sanity check for similarity search\n",
    "results = vector_store.similarity_search_with_score(\n",
    "    \"নীল কুঠি কোথায়?\",\n",
    "    k=2,\n",
    ")\n",
    "for res, score in results:\n",
    "    print(f\"*** [Similarity score={score:3f}]\\n{res.page_content}\\n[{res.metadata}]\\n\")"
   ]
  }
 ],
 "metadata": {
  "colab": {
   "provenance": []
  },
  "kernelspec": {
   "display_name": "torch",
   "language": "python",
   "name": "python3"
  },
  "language_info": {
   "codemirror_mode": {
    "name": "ipython",
    "version": 3
   },
   "file_extension": ".py",
   "mimetype": "text/x-python",
   "name": "python",
   "nbconvert_exporter": "python",
   "pygments_lexer": "ipython3",
   "version": "3.12.9"
  }
 },
 "nbformat": 4,
 "nbformat_minor": 0
}
