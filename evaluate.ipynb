{
 "cells": [
  {
   "cell_type": "code",
   "execution_count": 1,
   "metadata": {},
   "outputs": [
    {
     "name": "stderr",
     "output_type": "stream",
     "text": [
      "c:\\Users\\ASUS\\miniconda3\\envs\\torch\\Lib\\site-packages\\tqdm\\auto.py:21: TqdmWarning: IProgress not found. Please update jupyter and ipywidgets. See https://ipywidgets.readthedocs.io/en/stable/user_install.html\n",
      "  from .autonotebook import tqdm as notebook_tqdm\n",
      "Batches: 100%|██████████| 1/1 [00:00<00:00,  2.24it/s]\n"
     ]
    },
    {
     "name": "stdout",
     "output_type": "stream",
     "text": [
      "ঢাকায় ঘোরার জন্য অনেক কিছুই আছে!  আপনি পুরান ঢাকার ঐতিহাসিক স্থাপনা যেমন আহসান মঞ্জিল, লালবাগ কেল্লা, তারা মসজিদ, আরো অনেক কিছু দেখতে পারেন। আহসান মঞ্জিলের মার্বেলের মেঝে ও বারান্দা, বিভিন্ন কক্ষ,  সুন্দর বাগান দেখার মত। লালবাগ কেল্লার প্রাচীর, ফোঁকর, গোলাকার মঞ্চ  দেখার মত।  আপসাইড ডাউন গ্যালারীতেও যেতে পারেন, যদিও বর্তমানে সেটি বন্ধ।  শাহবাগে গিয়ে অপরাজেয় বাংলা দেখতে পারেন। পুরান ঢাকার বিখ্যাত খাবারও খেতে পারেন।  এছাড়াও আরো অনেক আকর্ষণীয় স্থান আছে ঢাকায়।  আপনার পছন্দ অনুযায়ী স্থান নির্বাচন করতে পারেন।  আমাদের ফেসবুক পেজে আরো তথ্য পাবেন।।\n"
     ]
    }
   ],
   "source": [
    "import os\n",
    "from dotenv import load_dotenv\n",
    "load_dotenv()\n",
    "\n",
    "from langchain_community.vectorstores import AstraDB\n",
    "from langchain_astradb import AstraDBVectorStore, AstraDBSemanticCache\n",
    "\n",
    "from langchain_huggingface import HuggingFaceEmbeddings, ChatHuggingFace\n",
    "\n",
    "from langchain_core.prompts import PromptTemplate\n",
    "from langchain_core.output_parsers import StrOutputParser\n",
    "from langchain_core.runnables import RunnablePassthrough\n",
    "from langchain_community.embeddings import HuggingFaceInferenceAPIEmbeddings\n",
    "\n",
    "from app import hf_embedding_model, vector_store, vec_retriever, llm, rag_chain"
   ]
  },
  {
   "cell_type": "code",
   "execution_count": 2,
   "metadata": {},
   "outputs": [],
   "source": [
    "# credentials\n",
    "HF_TOKEN = os.getenv(\"HUGGINGFACEHUB_API_TOKEN\")\n",
    "ASTRA_DB_APPLICATION_TOKEN = os.getenv(\"ASTRA_DB_APPLICATION_TOKEN\")\n",
    "ASTRA_DB_API_ENDPOINT = os.getenv(\"ASTRA_DB_API_ENDPOINT\")\n",
    "os.environ[\"GOOGLE_API_KEY\"] = os.getenv(\"GOOGLE_API_KEY\")\n",
    "\n",
    "\n",
    "os.environ['LANGSMITH_TRACING_V2']=\"true\"\n",
    "os.environ['LANGSMITH_ENDPOINT']=\"https://api.smith.langchain.com\"\n",
    "os.environ['LANGCHAIN_API_KEY']=os.getenv(\"LANGCHAIN_API_KEY\")\n",
    "os.environ['LANGSMITH_PROJECT']=\"travel_bot_bd\"\n",
    "\n",
    "llm_with_tools = llm.bind_tools([vec_retriever])\n",
    "# https://youtu.be/y5GvqOi4bJQ?si=aZ41fbtc4_IGBqVJ"
   ]
  },
  {
   "cell_type": "code",
   "execution_count": 3,
   "metadata": {},
   "outputs": [],
   "source": [
    "def rag_chain_llm(inputs:dict)->dict:\n",
    "    msg = f\"{inputs['question']}\"\n",
    "    res = rag_chain.invoke(msg)\n",
    "    # print(res)\n",
    "    return {\"answer\": res}"
   ]
  },
  {
   "cell_type": "code",
   "execution_count": 4,
   "metadata": {},
   "outputs": [
    {
     "name": "stderr",
     "output_type": "stream",
     "text": [
      "Batches:   0%|          | 0/1 [00:00<?, ?it/s]"
     ]
    },
    {
     "name": "stderr",
     "output_type": "stream",
     "text": [
      "Batches: 100%|██████████| 1/1 [00:00<00:00,  4.88it/s]\n"
     ]
    },
    {
     "data": {
      "text/plain": [
       "{'answer': 'পুরান ঢাকায় ঘোরার মতো অনেক কিছুই আছে!  আপনি যদি আহসান মঞ্জিল দেখতে যান, তাহলে কাছেই লালবাগ কেল্লা, তারা মসজিদ, আরও  অনেক ঐতিহাসিক স্থাপনা দেখতে পারবেন।  আর্মেনিয়ান চার্চ, হোসেনি দালান, বাহাদুর শাহ পার্ক (ভিক্টোরিয়া পার্ক) ও সদরঘাট লঞ্চঘাটও  ঘুরে দেখার মতো।  পুরান ঢাকার বিখ্যাত খাবারের দোকানগুলোও  চেখে দেখতে পারেন।  আহসান মঞ্জিলের সুন্দর গম্বুজ, মার্বেলের মেঝে,  খাবার ঘর, লাইব্রেরি,  দরবার হল  সবই দেখার মতো।  এছাড়াও, লালবাগ কেল্লার  ঐতিহাসিক গুরুত্ব ও স্থাপত্য  অসাধারণ।  ইদ্রাকপুর কেল্লা সম্পর্কেও লোকমুখে অনেক কথা প্রচলিত আছে।  শাহবাগে গেলে অপরাজেয় বাংলা দেখতে পারবেন।  আপনার ভ্রমণ আরও আনন্দময় হোক!।'}"
      ]
     },
     "execution_count": 4,
     "metadata": {},
     "output_type": "execute_result"
    }
   ],
   "source": [
    "rag_chain_llm({\"question\":\"পুরান ঢাকায় ঘোরার মত কি আছে?\"})"
   ]
  },
  {
   "cell_type": "code",
   "execution_count": 5,
   "metadata": {},
   "outputs": [],
   "source": [
    "from langchain_google_genai import ChatGoogleGenerativeAI\n",
    "\n",
    "eval_llm = ChatGoogleGenerativeAI(\n",
    "    model=\"gemini-2.0-flash-lite\",\n",
    "    temperature=0.2,\n",
    "    max_tokens=None,\n",
    "    timeout=None,\n",
    "    max_retries=2,\n",
    "    # other params...\n",
    ")\n"
   ]
  },
  {
   "cell_type": "code",
   "execution_count": 6,
   "metadata": {},
   "outputs": [
    {
     "name": "stdout",
     "output_type": "stream",
     "text": [
      "View the evaluation results for experiment: 'cot_qa-770b4149' at:\n",
      "https://smith.langchain.com/o/3a43463f-5a0e-5086-bca2-6b8f06bc1910/datasets/1c1f035d-c3cb-44b4-a09b-d18e88cac258/compare?selectedSessions=176cc1bd-c188-4df8-8b1e-8502ebcf26be\n",
      "\n",
      "\n"
     ]
    },
    {
     "name": "stderr",
     "output_type": "stream",
     "text": [
      "Batches: 100%|██████████| 1/1 [00:00<00:00,  6.58it/s]\n",
      "Batches: 100%|██████████| 1/1 [00:00<00:00,  5.00it/s]\n",
      "Batches: 100%|██████████| 1/1 [00:00<00:00,  7.09it/s]\n",
      "Batches: 100%|██████████| 1/1 [00:00<00:00,  6.43it/s]\n",
      "Batches: 100%|██████████| 1/1 [00:00<00:00,  3.92it/s]\n",
      "Batches: 100%|██████████| 1/1 [00:00<00:00,  3.98it/s]\n",
      "Batches: 100%|██████████| 1/1 [00:00<00:00,  3.44it/s]\n",
      "7it [00:38,  5.53s/it]\n"
     ]
    }
   ],
   "source": [
    "from langsmith.evaluation import evaluate, LangChainStringEvaluator\n",
    "from langsmith import Client\n",
    "\n",
    "client = Client()\n",
    "dataset_name = \"bd_travel_eval_dataset\"\n",
    "dataset = client.read_dataset(dataset_name=dataset_name)\n",
    "\n",
    "# Provide the LLM to the evaluator\n",
    "qa_evaluator = [LangChainStringEvaluator(evaluator=\"cot_qa\", config={\"llm\": eval_llm})]\n",
    "\n",
    "\n",
    "# Run the evaluation\n",
    "experiment_results = evaluate(\n",
    "    rag_chain_llm,\n",
    "    dataset_name,\n",
    "    qa_evaluator,\n",
    "    client=client,\n",
    "    experiment_prefix=\"cot_qa\",\n",
    ")\n"
   ]
  },
  {
   "cell_type": "code",
   "execution_count": 7,
   "metadata": {},
   "outputs": [
    {
     "name": "stdout",
     "output_type": "stream",
     "text": [
      "View the evaluation results for experiment: 'context_qa-821e9927' at:\n",
      "https://smith.langchain.com/o/3a43463f-5a0e-5086-bca2-6b8f06bc1910/datasets/1c1f035d-c3cb-44b4-a09b-d18e88cac258/compare?selectedSessions=419aff07-81dd-45e0-9bcf-05f94ba93f07\n",
      "\n",
      "\n"
     ]
    },
    {
     "name": "stderr",
     "output_type": "stream",
     "text": [
      "Batches: 100%|██████████| 1/1 [00:00<00:00,  4.07it/s]\n",
      "Batches: 100%|██████████| 1/1 [00:00<00:00,  4.59it/s]\n",
      "Batches: 100%|██████████| 1/1 [00:00<00:00,  3.40it/s]\n",
      "Batches: 100%|██████████| 1/1 [00:00<00:00,  2.29it/s]\n",
      "Batches: 100%|██████████| 1/1 [00:00<00:00,  2.39it/s]\n",
      "Batches: 100%|██████████| 1/1 [00:00<00:00,  3.21it/s]\n",
      "Batches: 100%|██████████| 1/1 [00:00<00:00,  3.60it/s]\n",
      "7it [00:29,  4.23s/it]\n"
     ]
    }
   ],
   "source": [
    "qa_evaluator = [LangChainStringEvaluator(evaluator=\"context_qa\", config={\"llm\": eval_llm})]\n",
    "\n",
    "\n",
    "# Run the evaluation\n",
    "experiment_results = evaluate(\n",
    "    rag_chain_llm,\n",
    "    dataset_name,\n",
    "    qa_evaluator,\n",
    "    client=client,\n",
    "    experiment_prefix=\"context_qa\",\n",
    ")"
   ]
  },
  {
   "cell_type": "code",
   "execution_count": null,
   "metadata": {},
   "outputs": [],
   "source": [
    "qa_evaluator = [LangChainStringEvaluator(evaluator=\"score_string\", config={\"criteria\": \"relevance\", \n",
    "                                                                           \"normalize_by\": 10, \n",
    "                                                                           \"llm\": eval_llm})]\n",
    "\n",
    "\n",
    "# Run the evaluation\n",
    "experiment_results = evaluate(\n",
    "    rag_chain_llm,\n",
    "    dataset_name,\n",
    "    qa_evaluator,\n",
    "    client=client,\n",
    "    experiment_prefix=\"score_string\",\n",
    ")"
   ]
  },
  {
   "cell_type": "code",
   "execution_count": 10,
   "metadata": {},
   "outputs": [
    {
     "name": "stdout",
     "output_type": "stream",
     "text": [
      "View the evaluation results for experiment: 'conciseness-6c7130ba' at:\n",
      "https://smith.langchain.com/o/3a43463f-5a0e-5086-bca2-6b8f06bc1910/datasets/1c1f035d-c3cb-44b4-a09b-d18e88cac258/compare?selectedSessions=a90e024b-cafb-42b0-939b-cecc2ead2b9f\n",
      "\n",
      "\n"
     ]
    },
    {
     "name": "stderr",
     "output_type": "stream",
     "text": [
      "Batches: 100%|██████████| 1/1 [00:00<00:00,  5.31it/s]\n",
      "Batches: 100%|██████████| 1/1 [00:00<00:00,  5.46it/s]\n",
      "Batches: 100%|██████████| 1/1 [00:00<00:00,  5.98it/s]\n",
      "Batches: 100%|██████████| 1/1 [00:00<00:00,  3.94it/s]\n",
      "Batches: 100%|██████████| 1/1 [00:00<00:00,  5.57it/s]\n",
      "Batches: 100%|██████████| 1/1 [00:00<00:00,  6.30it/s]\n",
      "Batches: 100%|██████████| 1/1 [00:00<00:00,  6.68it/s]\n",
      "7it [00:42,  6.09s/it]\n"
     ]
    }
   ],
   "source": [
    "qa_evaluator = [LangChainStringEvaluator(evaluator=\"criteria\", config={\"criteria\":\"conciseness\",\n",
    "    \"llm\": eval_llm})]\n",
    "\n",
    "# Run the evaluation\n",
    "experiment_results = evaluate(\n",
    "    rag_chain_llm,\n",
    "    dataset_name,\n",
    "    qa_evaluator,\n",
    "    client=client,\n",
    "    experiment_prefix=\"conciseness\",\n",
    ")"
   ]
  }
 ],
 "metadata": {
  "kernelspec": {
   "display_name": "torch",
   "language": "python",
   "name": "python3"
  },
  "language_info": {
   "codemirror_mode": {
    "name": "ipython",
    "version": 3
   },
   "file_extension": ".py",
   "mimetype": "text/x-python",
   "name": "python",
   "nbconvert_exporter": "python",
   "pygments_lexer": "ipython3",
   "version": "3.12.9"
  }
 },
 "nbformat": 4,
 "nbformat_minor": 2
}
